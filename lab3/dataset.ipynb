{
 "cells": [
  {
   "cell_type": "code",
   "execution_count": 91,
   "metadata": {},
   "outputs": [],
   "source": [
    "import pandas as pd # to work with dataframes\n",
    "import numpy as np # to work with arrays\n",
    "import re # to work with regular expressions\n",
    "from sklearn.pipeline import Pipeline # to build pipelines\n",
    "from imputer import MeanGroupImputer # to impute missing values\n",
    "from sklearn.pipeline import make_pipeline # to build pipelines\n",
    "from sklearn.compose import ColumnTransformer # to build column transformers\n",
    "from sklearn.preprocessing import StandardScaler # to standardize data\n",
    "from sklearn.svm import SVC # to build support vector machines\n",
    "import joblib # to save the pipeline"
   ]
  },
  {
   "cell_type": "code",
   "execution_count": 92,
   "metadata": {},
   "outputs": [],
   "source": [
    "# read the data from github repository\n",
    "titanic = pd.read_csv('https://github.com/mbburova/MDS/raw/main/titanic.csv')"
   ]
  },
  {
   "cell_type": "code",
   "execution_count": 93,
   "metadata": {},
   "outputs": [],
   "source": [
    "# extract the title from the name\n",
    "titanic['Title'] = titanic['Name'].apply(lambda x: re.compile(\"[A-Z][a-z]+\\.\").findall(x)[0][:-1])\n",
    "# create a time series of the number of passengers with each title\n",
    "proper_titles = titanic['Title'].value_counts(dropna=False)\n",
    "# create a list of titles with more than 6 passengers\n",
    "proper_titles = list(proper_titles[proper_titles > 6].index)\n",
    "# replace titles with less than 6 passengers with \"Other\"\n",
    "titanic['Title'] = titanic['Title'].apply(lambda x: x if x in proper_titles else \"Other\")"
   ]
  },
  {
   "cell_type": "code",
   "execution_count": 94,
   "metadata": {},
   "outputs": [],
   "source": [
    "# create a pipeline that imputes missing values in the 'Age' column\n",
    "age_pipe = make_pipeline(MeanGroupImputer(group_col='Title'))\n",
    "imp = ColumnTransformer([\n",
    "    ('imputing', age_pipe, ['Age', 'Title'])],\n",
    "    remainder='drop'\n",
    ")"
   ]
  },
  {
   "cell_type": "code",
   "execution_count": 95,
   "metadata": {},
   "outputs": [],
   "source": [
    "# fit the imputer and transform the data to a numpy array\n",
    "age = imp.fit_transform(titanic)\n",
    "# create numpy with values 1 and 0 for 'male' and 'female'\n",
    "sex = np.where(titanic['Sex'] == 'male', 1, 0).reshape(-1, 1)\n",
    "# concatenate the arrays to use them in the model\n",
    "data = np.concatenate((age, titanic.Fare.values.reshape(-1, 1), sex), axis=1)"
   ]
  },
  {
   "cell_type": "code",
   "execution_count": 96,
   "metadata": {},
   "outputs": [],
   "source": [
    "# create a pipeline that scales the data and fits the model\n",
    "model = Pipeline([\n",
    "    ('scaling', StandardScaler()),\n",
    "    ('model', SVC(C=1.3))\n",
    "])"
   ]
  },
  {
   "cell_type": "code",
   "execution_count": 97,
   "metadata": {},
   "outputs": [
    {
     "data": {
      "text/plain": [
       "['./model.pkl']"
      ]
     },
     "execution_count": 97,
     "metadata": {},
     "output_type": "execute_result"
    }
   ],
   "source": [
    "# save the model\n",
    "joblib.dump(model.fit(data, titanic['Survived']), './model.pkl')"
   ]
  }
 ],
 "metadata": {
  "kernelspec": {
   "display_name": "venv",
   "language": "python",
   "name": "python3"
  },
  "language_info": {
   "codemirror_mode": {
    "name": "ipython",
    "version": 3
   },
   "file_extension": ".py",
   "mimetype": "text/x-python",
   "name": "python",
   "nbconvert_exporter": "python",
   "pygments_lexer": "ipython3",
   "version": "3.10.12"
  }
 },
 "nbformat": 4,
 "nbformat_minor": 2
}
