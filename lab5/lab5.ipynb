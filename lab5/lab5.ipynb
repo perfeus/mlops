{
 "cells": [
  {
   "cell_type": "code",
   "execution_count": 134,
   "metadata": {},
   "outputs": [
    {
     "name": "stdout",
     "output_type": "stream",
     "text": [
      "Dataset URL: https://www.kaggle.com/datasets/mirichoi0218/insurance\n",
      "Downloading insurance.zip to ./insurance\n"
     ]
    },
    {
     "name": "stderr",
     "output_type": "stream",
     "text": [
      "100%|██████████| 16.0k/16.0k [00:00<00:00, 812kB/s]"
     ]
    },
    {
     "name": "stdout",
     "output_type": "stream",
     "text": [
      "\n"
     ]
    },
    {
     "name": "stderr",
     "output_type": "stream",
     "text": [
      "\n"
     ]
    }
   ],
   "source": [
    "import opendatasets as od # to download the dataset from Kaggle\n",
    "import pandas as pd # to work with tabular data\n",
    "from sklearn.preprocessing import Normalizer, OrdinalEncoder, StandardScaler, MinMaxScaler, OneHotEncoder # to preprocess the data\n",
    "from sklearn.compose import ColumnTransformer # to create a preprocessor\n",
    "from sklearn.pipeline import Pipeline # to create a pipeline\n",
    "from sklearn.linear_model import LinearRegression # to create a linear regression model\n",
    "from sklearn.metrics import root_mean_squared_error as rmse # to evaluate the model\n",
    "import joblib # to save the model\n",
    "# Download the dataset from Kaggle\n",
    "od.download(\"https://www.kaggle.com/datasets/mirichoi0218/insurance\", force=True)"
   ]
  },
  {
   "cell_type": "code",
   "execution_count": 140,
   "metadata": {},
   "outputs": [
    {
     "name": "stdout",
     "output_type": "stream",
     "text": [
      "/home/alex/Projects/mlops/lab5\n"
     ]
    }
   ],
   "source": [
    "import os\n",
    "\n",
    "current_directory = os.getcwd()\n",
    "print(current_directory)"
   ]
  },
  {
   "cell_type": "code",
   "execution_count": 135,
   "metadata": {},
   "outputs": [
    {
     "name": "stdout",
     "output_type": "stream",
     "text": [
      "Overwriting test_datasets.py\n"
     ]
    }
   ],
   "source": [
    "%%writefile test_datasets.py\n",
    "import os # to work with the file system\n",
    "import pandas as pd # to work with tabular data\n",
    "import joblib # to save the model\n",
    "from sklearn.metrics import root_mean_squared_error as rmse # to evaluate the model\n",
    "\n",
    "current_directory = os.getcwd() # get the current directory\n",
    "df = pd.read_csv(current_directory + \"/insurance/insurance.csv\") # to load the dataset\n",
    "\n",
    "\n",
    "def check_missing_values(df):\n",
    "    \"\"\"\n",
    "    Check the number of missing values in the dataset\n",
    "    \"\"\"\n",
    "    return df.isnull().sum().sum()\n",
    "\n",
    "def test_check_missing_values():\n",
    "    \"\"\"\n",
    "    Test the check_missing_values function\n",
    "    \"\"\"\n",
    "    assert check_missing_values(df) == 0\n",
    "\n",
    "def get_column_names(df):\n",
    "    \"\"\"\n",
    "    Get the names of the columns in the dataset\n",
    "    \"\"\"\n",
    "    return df.columns.to_list()\n",
    "\n",
    "def test_get_column_names():\n",
    "    \"\"\"\n",
    "    Test the get_column_names function\n",
    "    \"\"\"\n",
    "    assert get_column_names(df) == ['age', 'sex', 'bmi', 'children', 'smoker', 'region', 'charges']\n",
    "\n",
    "def get_data_types(df):\n",
    "    \"\"\"\n",
    "    Get the data types of the columns in the dataset\n",
    "    \"\"\"\n",
    "    return [dtype.name for dtype in df.dtypes]\n",
    "\n",
    "def test_check_data_type():\n",
    "    \"\"\"\n",
    "    Test the get_data_types function\n",
    "    \"\"\"\n",
    "    assert get_data_types(df) == ['int64', 'object', 'float64', 'int64', 'object', 'object', 'float64']\n",
    "\n",
    "def check_duplicates(df):\n",
    "    \"\"\"\n",
    "    Check the number of duplicate rows in the dataset\n",
    "    \"\"\"\n",
    "    return df.duplicated().sum()\n",
    "\n",
    "def test_check_duplicates():\n",
    "    \"\"\"\n",
    "    Test the check_duplicates function\n",
    "    \"\"\"\n",
    "    assert check_duplicates(df) == 1\n",
    "\n",
    "# load the model from the file\n",
    "model = joblib.load('insurance/model.pkl')\n",
    "\n",
    "def metrics_model(df, noise, model):\n",
    "    \"\"\"\n",
    "    Evaluate the model with the dataset and noise\n",
    "    \"\"\"\n",
    "    df_noised = df.copy() # create a copy of the dataset\n",
    "    df_noised.iloc[700:1000, [0, 2, 3]] *= 3 # add noise to the dataset\n",
    "    X, y = df.drop('charges', axis=1), df['charges'] # separate features and target\n",
    "    X_noised, y_noised = df_noised.drop('charges', axis=1), df_noised['charges'] # separate features and target\n",
    "    return rmse(y, model.predict(X_noised)), rmse(y, model.predict(X))\n",
    "\n",
    "def test_metrics_model():\n",
    "    \"\"\"\n",
    "    Test the metrics_model function\n",
    "    \"\"\"\n",
    "    assert metrics_model(df, 2, model)[0] <= metrics_model(df, 2, model)[1] * 1.2\n",
    "\n"
   ]
  },
  {
   "cell_type": "code",
   "execution_count": 136,
   "metadata": {},
   "outputs": [
    {
     "data": {
      "text/html": [
       "<div>\n",
       "<style scoped>\n",
       "    .dataframe tbody tr th:only-of-type {\n",
       "        vertical-align: middle;\n",
       "    }\n",
       "\n",
       "    .dataframe tbody tr th {\n",
       "        vertical-align: top;\n",
       "    }\n",
       "\n",
       "    .dataframe thead th {\n",
       "        text-align: right;\n",
       "    }\n",
       "</style>\n",
       "<table border=\"1\" class=\"dataframe\">\n",
       "  <thead>\n",
       "    <tr style=\"text-align: right;\">\n",
       "      <th></th>\n",
       "      <th>age</th>\n",
       "      <th>sex</th>\n",
       "      <th>bmi</th>\n",
       "      <th>children</th>\n",
       "      <th>smoker</th>\n",
       "      <th>region</th>\n",
       "      <th>charges</th>\n",
       "    </tr>\n",
       "  </thead>\n",
       "  <tbody>\n",
       "    <tr>\n",
       "      <th>0</th>\n",
       "      <td>19</td>\n",
       "      <td>female</td>\n",
       "      <td>27.900</td>\n",
       "      <td>0</td>\n",
       "      <td>yes</td>\n",
       "      <td>southwest</td>\n",
       "      <td>16884.92400</td>\n",
       "    </tr>\n",
       "    <tr>\n",
       "      <th>1</th>\n",
       "      <td>18</td>\n",
       "      <td>male</td>\n",
       "      <td>33.770</td>\n",
       "      <td>1</td>\n",
       "      <td>no</td>\n",
       "      <td>southeast</td>\n",
       "      <td>1725.55230</td>\n",
       "    </tr>\n",
       "    <tr>\n",
       "      <th>2</th>\n",
       "      <td>28</td>\n",
       "      <td>male</td>\n",
       "      <td>33.000</td>\n",
       "      <td>3</td>\n",
       "      <td>no</td>\n",
       "      <td>southeast</td>\n",
       "      <td>4449.46200</td>\n",
       "    </tr>\n",
       "    <tr>\n",
       "      <th>3</th>\n",
       "      <td>33</td>\n",
       "      <td>male</td>\n",
       "      <td>22.705</td>\n",
       "      <td>0</td>\n",
       "      <td>no</td>\n",
       "      <td>northwest</td>\n",
       "      <td>21984.47061</td>\n",
       "    </tr>\n",
       "    <tr>\n",
       "      <th>4</th>\n",
       "      <td>32</td>\n",
       "      <td>male</td>\n",
       "      <td>28.880</td>\n",
       "      <td>0</td>\n",
       "      <td>no</td>\n",
       "      <td>northwest</td>\n",
       "      <td>3866.85520</td>\n",
       "    </tr>\n",
       "    <tr>\n",
       "      <th>5</th>\n",
       "      <td>31</td>\n",
       "      <td>female</td>\n",
       "      <td>25.740</td>\n",
       "      <td>0</td>\n",
       "      <td>no</td>\n",
       "      <td>southeast</td>\n",
       "      <td>3756.62160</td>\n",
       "    </tr>\n",
       "    <tr>\n",
       "      <th>6</th>\n",
       "      <td>46</td>\n",
       "      <td>female</td>\n",
       "      <td>33.440</td>\n",
       "      <td>1</td>\n",
       "      <td>no</td>\n",
       "      <td>southeast</td>\n",
       "      <td>8240.58960</td>\n",
       "    </tr>\n",
       "    <tr>\n",
       "      <th>7</th>\n",
       "      <td>37</td>\n",
       "      <td>female</td>\n",
       "      <td>27.740</td>\n",
       "      <td>3</td>\n",
       "      <td>no</td>\n",
       "      <td>northwest</td>\n",
       "      <td>7281.50560</td>\n",
       "    </tr>\n",
       "    <tr>\n",
       "      <th>8</th>\n",
       "      <td>37</td>\n",
       "      <td>male</td>\n",
       "      <td>29.830</td>\n",
       "      <td>2</td>\n",
       "      <td>no</td>\n",
       "      <td>northeast</td>\n",
       "      <td>6406.41070</td>\n",
       "    </tr>\n",
       "    <tr>\n",
       "      <th>9</th>\n",
       "      <td>60</td>\n",
       "      <td>female</td>\n",
       "      <td>25.840</td>\n",
       "      <td>0</td>\n",
       "      <td>no</td>\n",
       "      <td>northwest</td>\n",
       "      <td>28923.13692</td>\n",
       "    </tr>\n",
       "  </tbody>\n",
       "</table>\n",
       "</div>"
      ],
      "text/plain": [
       "   age     sex     bmi  children smoker     region      charges\n",
       "0   19  female  27.900         0    yes  southwest  16884.92400\n",
       "1   18    male  33.770         1     no  southeast   1725.55230\n",
       "2   28    male  33.000         3     no  southeast   4449.46200\n",
       "3   33    male  22.705         0     no  northwest  21984.47061\n",
       "4   32    male  28.880         0     no  northwest   3866.85520\n",
       "5   31  female  25.740         0     no  southeast   3756.62160\n",
       "6   46  female  33.440         1     no  southeast   8240.58960\n",
       "7   37  female  27.740         3     no  northwest   7281.50560\n",
       "8   37    male  29.830         2     no  northeast   6406.41070\n",
       "9   60  female  25.840         0     no  northwest  28923.13692"
      ]
     },
     "execution_count": 136,
     "metadata": {},
     "output_type": "execute_result"
    }
   ],
   "source": [
    "df = pd.read_csv(\"insurance/insurance.csv\") # Load the dataset\n",
    "df.head(10) # Display the first two rows of the dataset"
   ]
  },
  {
   "cell_type": "code",
   "execution_count": 137,
   "metadata": {},
   "outputs": [],
   "source": [
    "# Preprocess the data with a ColumnTransformer\n",
    "transforms = ColumnTransformer([\n",
    "    ('norm1', Normalizer(), ['age']),\n",
    "    ('le', OrdinalEncoder(), ['sex', 'smoker']),\n",
    "    ('scaler', StandardScaler(), ['bmi']),\n",
    "    ('minmax', MinMaxScaler(), ['children']),\n",
    "    ('ohe', OneHotEncoder(), ['region'])\n",
    "])\n",
    "# Create a pipeline\n",
    "model = Pipeline([\n",
    "    ('preprocessor', transforms),\n",
    "    ('regressor', LinearRegression())\n",
    "])"
   ]
  },
  {
   "cell_type": "code",
   "execution_count": 138,
   "metadata": {},
   "outputs": [],
   "source": [
    "X, y = df.drop('charges', axis=1), df['charges'] # separate features and target"
   ]
  },
  {
   "cell_type": "code",
   "execution_count": 139,
   "metadata": {},
   "outputs": [
    {
     "data": {
      "text/plain": [
       "['insurance/model.pkl']"
      ]
     },
     "execution_count": 139,
     "metadata": {},
     "output_type": "execute_result"
    }
   ],
   "source": [
    "model.fit(X, y) # train the model\n",
    "rmse(y, model.predict(X)) # evaluate the model\n",
    "joblib.dump(model, 'insurance/model.pkl')"
   ]
  }
 ],
 "metadata": {
  "kernelspec": {
   "display_name": "venv",
   "language": "python",
   "name": "python3"
  },
  "language_info": {
   "codemirror_mode": {
    "name": "ipython",
    "version": 3
   },
   "file_extension": ".py",
   "mimetype": "text/x-python",
   "name": "python",
   "nbconvert_exporter": "python",
   "pygments_lexer": "ipython3",
   "version": "3.10.12"
  }
 },
 "nbformat": 4,
 "nbformat_minor": 2
}
