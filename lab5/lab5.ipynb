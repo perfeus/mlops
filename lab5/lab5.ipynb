{
 "cells": [
  {
   "cell_type": "code",
   "execution_count": 77,
   "metadata": {},
   "outputs": [
    {
     "name": "stdout",
     "output_type": "stream",
     "text": [
      "Dataset URL: https://www.kaggle.com/datasets/mirichoi0218/insurance\n",
      "Downloading insurance.zip to ./insurance\n"
     ]
    },
    {
     "name": "stderr",
     "output_type": "stream",
     "text": [
      "100%|██████████| 16.0k/16.0k [00:00<00:00, 957kB/s]"
     ]
    },
    {
     "name": "stdout",
     "output_type": "stream",
     "text": [
      "\n"
     ]
    },
    {
     "name": "stderr",
     "output_type": "stream",
     "text": [
      "\n"
     ]
    }
   ],
   "source": [
    "import opendatasets as od # to download the dataset from Kaggle\n",
    "import pandas as pd # to work with tabular data\n",
    "from sklearn.preprocessing import Normalizer, OrdinalEncoder, StandardScaler, MinMaxScaler, OneHotEncoder # to preprocess the data\n",
    "from sklearn.compose import ColumnTransformer # to create a preprocessor\n",
    "from sklearn.pipeline import Pipeline # to create a pipeline\n",
    "from sklearn.linear_model import LinearRegression # to create a linear regression model\n",
    "from sklearn.metrics import root_mean_squared_error as rmse # to evaluate the model\n",
    "# Download the dataset from Kaggle\n",
    "od.download(\"https://www.kaggle.com/datasets/mirichoi0218/insurance\", force=True)"
   ]
  },
  {
   "cell_type": "code",
   "execution_count": 47,
   "metadata": {},
   "outputs": [
    {
     "name": "stdout",
     "output_type": "stream",
     "text": [
      "Overwriting test_datasets.py\n"
     ]
    }
   ],
   "source": [
    "%%writefile test_datasets.py # to save the test file\n",
    "import pandas as pd # to work with tabular data\n",
    "df = pd.read_csv(\"insurance/insurance.csv\") # to load the dataset\n",
    "\n",
    "\n",
    "def check_missing_values(df):\n",
    "    \"\"\"\n",
    "    Check the number of missing values in the dataset\n",
    "    \"\"\"\n",
    "    return df.isnull().sum().sum()\n",
    "\n",
    "def test_check_missing_values():\n",
    "    \"\"\"\n",
    "    Test the check_missing_values function\n",
    "    \"\"\"\n",
    "    assert check_missing_values(df) == 0\n",
    "\n",
    "def get_column_names(df):\n",
    "    \"\"\"\n",
    "    Get the names of the columns in the dataset\n",
    "    \"\"\"\n",
    "    return df.columns.to_list()\n",
    "\n",
    "def test_get_column_names():\n",
    "    \"\"\"\n",
    "    Test the get_column_names function\n",
    "    \"\"\"\n",
    "    assert get_column_names(df) == ['age', 'sex', 'bmi', 'children', 'smoker', 'region', 'charges']\n",
    "\n",
    "def get_data_types(df):\n",
    "    \"\"\"\n",
    "    Get the data types of the columns in the dataset\n",
    "    \"\"\"\n",
    "    return [dtype.name for dtype in df.dtypes]\n",
    "\n",
    "def test_check_data_type():\n",
    "    \"\"\"\n",
    "    Test the get_data_types function\n",
    "    \"\"\"\n",
    "    assert get_data_types(df) == ['int64', 'object', 'float64', 'int64', 'object', 'object', 'float64']\n",
    "\n",
    "def check_duplicates(df):\n",
    "    \"\"\"\n",
    "    Check the number of duplicate rows in the dataset\n",
    "    \"\"\"\n",
    "    return df.duplicated().sum()\n",
    "\n",
    "def test_check_duplicates():\n",
    "    \"\"\"\n",
    "    Test the check_duplicates function\n",
    "    \"\"\"\n",
    "    assert check_duplicates(df) == 1"
   ]
  },
  {
   "cell_type": "code",
   "execution_count": 69,
   "metadata": {},
   "outputs": [
    {
     "data": {
      "text/html": [
       "<div>\n",
       "<style scoped>\n",
       "    .dataframe tbody tr th:only-of-type {\n",
       "        vertical-align: middle;\n",
       "    }\n",
       "\n",
       "    .dataframe tbody tr th {\n",
       "        vertical-align: top;\n",
       "    }\n",
       "\n",
       "    .dataframe thead th {\n",
       "        text-align: right;\n",
       "    }\n",
       "</style>\n",
       "<table border=\"1\" class=\"dataframe\">\n",
       "  <thead>\n",
       "    <tr style=\"text-align: right;\">\n",
       "      <th></th>\n",
       "      <th>age</th>\n",
       "      <th>sex</th>\n",
       "      <th>bmi</th>\n",
       "      <th>children</th>\n",
       "      <th>smoker</th>\n",
       "      <th>region</th>\n",
       "      <th>charges</th>\n",
       "    </tr>\n",
       "  </thead>\n",
       "  <tbody>\n",
       "    <tr>\n",
       "      <th>0</th>\n",
       "      <td>19</td>\n",
       "      <td>female</td>\n",
       "      <td>27.90</td>\n",
       "      <td>0</td>\n",
       "      <td>yes</td>\n",
       "      <td>southwest</td>\n",
       "      <td>16884.9240</td>\n",
       "    </tr>\n",
       "    <tr>\n",
       "      <th>1</th>\n",
       "      <td>18</td>\n",
       "      <td>male</td>\n",
       "      <td>33.77</td>\n",
       "      <td>1</td>\n",
       "      <td>no</td>\n",
       "      <td>southeast</td>\n",
       "      <td>1725.5523</td>\n",
       "    </tr>\n",
       "  </tbody>\n",
       "</table>\n",
       "</div>"
      ],
      "text/plain": [
       "   age     sex    bmi  children smoker     region     charges\n",
       "0   19  female  27.90         0    yes  southwest  16884.9240\n",
       "1   18    male  33.77         1     no  southeast   1725.5523"
      ]
     },
     "execution_count": 69,
     "metadata": {},
     "output_type": "execute_result"
    }
   ],
   "source": [
    "df = pd.read_csv(\"insurance/insurance.csv\") # Load the dataset\n",
    "df.head(2) # Display the first two rows of the dataset"
   ]
  },
  {
   "cell_type": "code",
   "execution_count": 70,
   "metadata": {},
   "outputs": [],
   "source": [
    "# Preprocess the data with a ColumnTransformer\n",
    "transforms = ColumnTransformer([\n",
    "    ('norm1', Normalizer(), ['age']),\n",
    "    ('le', OrdinalEncoder(), ['sex', 'smoker']),\n",
    "    ('scaler', StandardScaler(), ['bmi']),\n",
    "    ('minmax', MinMaxScaler(), ['children']),\n",
    "    ('ohe', OneHotEncoder(), ['region'])\n",
    "])\n",
    "# Create a pipeline\n",
    "model = Pipeline([\n",
    "    ('preprocessor', transforms),\n",
    "    ('regressor', LinearRegression())\n",
    "])"
   ]
  },
  {
   "cell_type": "code",
   "execution_count": 71,
   "metadata": {},
   "outputs": [],
   "source": [
    "X, y = df.drop('charges', axis=1), df['charges'] # separate features and target"
   ]
  },
  {
   "cell_type": "code",
   "execution_count": 76,
   "metadata": {},
   "outputs": [
    {
     "data": {
      "text/plain": [
       "7021.428149754168"
      ]
     },
     "execution_count": 76,
     "metadata": {},
     "output_type": "execute_result"
    }
   ],
   "source": [
    "model.fit(X, y) # train the model\n",
    "rmse(y, model.predict(X)) # evaluate the model"
   ]
  },
  {
   "cell_type": "code",
   "execution_count": null,
   "metadata": {},
   "outputs": [],
   "source": []
  }
 ],
 "metadata": {
  "kernelspec": {
   "display_name": "venv",
   "language": "python",
   "name": "python3"
  },
  "language_info": {
   "codemirror_mode": {
    "name": "ipython",
    "version": 3
   },
   "file_extension": ".py",
   "mimetype": "text/x-python",
   "name": "python",
   "nbconvert_exporter": "python",
   "pygments_lexer": "ipython3",
   "version": "3.10.12"
  }
 },
 "nbformat": 4,
 "nbformat_minor": 2
}
